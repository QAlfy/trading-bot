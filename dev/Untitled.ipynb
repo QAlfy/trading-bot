{
 "cells": [
  {
   "cell_type": "code",
   "execution_count": 1,
   "id": "53764fe9",
   "metadata": {},
   "outputs": [],
   "source": [
    "import pandas as pd\n",
    "from ethtx import EthTx, EthTxConfig\n",
    "from ethtx.models.decoded_model import DecodedTransaction\n",
    "from typing import List"
   ]
  },
  {
   "cell_type": "code",
   "execution_count": 2,
   "id": "02ec3bdb",
   "metadata": {},
   "outputs": [
    {
     "data": {
      "text/plain": [
       "\" decoded_transaction: DecodedTransaction = ethtx.decoders.decode_transaction(\\n    '0x1594180567438ad258c98e263b412f55f62a23ebb5e9056089e9f11a513d4816')\\n\\nprint(decoded_transaction) \""
      ]
     },
     "execution_count": 2,
     "metadata": {},
     "output_type": "execute_result"
    }
   ],
   "source": [
    "ethtx_config = EthTxConfig(\n",
    "    mongo_connection_string=\"mongomock://localhost/ethtx\",  ##MongoDB connection string,\n",
    "    etherscan_api_key=\"VQXUYMB6T6I2E9SF67JPKP6YCYFW5P645A\",  ##Etherscan API key,\n",
    "    web3nodes={\n",
    "        \"mainnet\": {\n",
    "            \"hook\": \"https://api.archivenode.io/58db800c-c787-41c1-96d5-ed35e126eb35\",  # multiple nodes supported, separate them with comma\n",
    "            \"poa\": False\n",
    "        }\n",
    "    },\n",
    "    default_chain=\"mainnet\",\n",
    "    etherscan_urls={\"mainnet\": \"https://api.etherscan.io/api\", },\n",
    ")\n",
    "\n",
    "ethtx = EthTx.initialize(ethtx_config)\n",
    "\"\"\" decoded_transaction: DecodedTransaction = ethtx.decoders.decode_transaction(\n",
    "    '0x1594180567438ad258c98e263b412f55f62a23ebb5e9056089e9f11a513d4816')\n",
    "\n",
    "print(decoded_transaction) \"\"\""
   ]
  },
  {
   "cell_type": "code",
   "execution_count": 3,
   "id": "02464b1b",
   "metadata": {},
   "outputs": [],
   "source": [
    "web3provider = ethtx.providers.web3provider\n",
    "\n",
    "from ethtx.models.w3_model import W3Transaction, W3Block, W3Receipt, W3CallTree\n",
    "\n",
    "# read raw transaction data directly from the node\n",
    "w3transaction: W3Transaction = web3provider.get_transaction(\n",
    "    '0x1594180567438ad258c98e263b412f55f62a23ebb5e9056089e9f11a513d4816')\n",
    "w3block: W3Block = web3provider.get_block(w3transaction.blockNumber)\n",
    "w3receipt: W3Receipt = web3provider.get_receipt(w3transaction.hash.hex())\n",
    "w3calls: W3CallTree = web3provider.get_calls(w3transaction.hash.hex())\n"
   ]
  },
  {
   "cell_type": "code",
   "execution_count": 4,
   "id": "5c104ccc",
   "metadata": {},
   "outputs": [],
   "source": [
    "from ethtx.models.decoded_model import (\n",
    "    DecodedTransfer,\n",
    "    DecodedBalance,\n",
    "    DecodedEvent, DecodedCall,\n",
    ")\n",
    "from ethtx.models.objects_model import Transaction, Event, Block, Call\n",
    "\n",
    "# read the raw transaction from the node\n",
    "transaction = Transaction.from_raw(\n",
    "    w3transaction=w3transaction, w3receipt=w3receipt, w3calltree=w3calls\n",
    ")\n",
    "\n",
    "# get proxies used in the transaction\n",
    "proxies = ethtx.decoders.get_proxies(transaction.root_call, \"mainnet\")\n",
    "\n",
    "block: Block = Block.from_raw(\n",
    "    w3block=web3provider.get_block(transaction.metadata.block_number),\n",
    "    chain_id=\"mainnet\",\n",
    ")\n",
    "\n",
    "# decode transaction components\n",
    "abi_decoded_events: List[Event] = ethtx.decoders.abi_decoder.decode_events(\n",
    "    transaction.events, block.metadata, transaction.metadata\n",
    ")\n",
    "abi_decoded_calls: DecodedCall = ethtx.decoders.abi_decoder.decode_calls(\n",
    "    transaction.root_call, block.metadata, transaction.metadata, proxies\n",
    ")\n",
    "abi_decoded_transfers: List[\n",
    "    DecodedTransfer\n",
    "] = ethtx.decoders.abi_decoder.decode_transfers(abi_decoded_calls, abi_decoded_events)\n",
    "abi_decoded_balances: List[DecodedBalance] = ethtx.decoders.abi_decoder.decode_balances(\n",
    "    abi_decoded_transfers\n",
    ")\n"
   ]
  },
  {
   "cell_type": "code",
   "execution_count": 5,
   "id": "36ed7b67",
   "metadata": {},
   "outputs": [],
   "source": [
    "\n",
    "# decode a single event\n",
    "raw_event: Event = transaction.events[0]\n",
    "abi_decoded_event: DecodedEvent = ethtx.decoders.abi_decoder.decode_event(\n",
    "    raw_event, block.metadata, transaction.metadata\n",
    ")\n",
    "\n",
    "# decode a single call\n",
    "raw_call: Call = transaction.root_call.subcalls[0]\n",
    "abi_decoded_call: DecodedCall = ethtx.decoders.abi_decoder.decode_call(\n",
    "    raw_call, block.metadata, transaction.metadata, proxies\n",
    ")\n"
   ]
  },
  {
   "cell_type": "code",
   "execution_count": 6,
   "id": "fa1699fd",
   "metadata": {},
   "outputs": [],
   "source": [
    "from ethtx.models.decoded_model import DecodedTransactionMetadata\n",
    "\n",
    "# semantically decode transaction components\n",
    "decoded_metadata: DecodedTransactionMetadata = (\n",
    "    ethtx.decoders.semantic_decoder.decode_metadata(\n",
    "        block.metadata, transaction.metadata, \"mainnet\"\n",
    "    )\n",
    ")\n",
    "decoded_events: List[DecodedEvent] = ethtx.decoders.semantic_decoder.decode_events(\n",
    "    abi_decoded_events, decoded_metadata, proxies\n",
    ")\n",
    "\n",
    "decoded_calls: Call = ethtx.decoders.semantic_decoder.decode_calls(\n",
    "    abi_decoded_calls, decoded_metadata, proxies\n",
    ")\n",
    "decoded_transfers: List[\n",
    "    DecodedTransfer\n",
    "] = ethtx.decoders.semantic_decoder.decode_transfers(\n",
    "    abi_decoded_transfers, decoded_metadata\n",
    ")\n",
    "decoded_balances: List[\n",
    "    DecodedBalance\n",
    "] = ethtx.decoders.semantic_decoder.decode_balances(\n",
    "    abi_decoded_balances, decoded_metadata\n",
    ")\n"
   ]
  },
  {
   "cell_type": "code",
   "execution_count": 7,
   "id": "57fb29a6",
   "metadata": {},
   "outputs": [],
   "source": [
    "\n",
    "\"\"\" # semantically decode a single event\n",
    "decoded_event: DecodedEvent = ethtx.decoders.semantic_decoder.decode_event(\n",
    "    abi_decoded_events[0], decoded_metadata, proxies\n",
    ")\n",
    "# semantically decode a single call\n",
    "decoded_call: Call = ethtx.decoders.semantic_decoder.decode_call(\n",
    "    abi_decoded_calls.subcalls[0], decoded_metadata, proxies\n",
    ") \"\"\"\n"
   ]
  },
  {
   "cell_type": "code",
   "execution_count": 15,
   "id": "d01cb7aa",
   "metadata": {},
   "outputs": [],
   "source": [
    "\"\"\" import sys\n",
    "import json\n",
    "\n",
    "sys.path.append(\"../src/\")\n",
    "from com.cryptobot.utils.logger import PrettyLogger\n",
    "\n",
    "transaction_dict = transaction.dict()\n",
    "abi_decoded_events_dict = [ev.dict() for ev in abi_decoded_events]\n",
    "abi_decoded_calls_dict = decoded_calls.dict()\n",
    "abi_decoded_transfers_dict = [t.dict() for t in abi_decoded_transfers]\n",
    "abi_decoded_balances_dict = [b.dict() for b in abi_decoded_balances]\n",
    "\n",
    "with open('../data/0x1594180567438ad258c98e263b412f55f62a23ebb5e9056089e9f11a513d4816_transaction.json', mode='a') as fp:\n",
    "    json.dump(transaction_dict, fp, default=str)\n",
    "    fp.close()\n",
    "\n",
    "with open('../data/0x1594180567438ad258c98e263b412f55f62a23ebb5e9056089e9f11a513d4816_events.json', mode='a') as fp:\n",
    "    json.dump(abi_decoded_events_dict, fp, default=str)\n",
    "    fp.close()\n",
    "\n",
    "with open('../data/0x1594180567438ad258c98e263b412f55f62a23ebb5e9056089e9f11a513d4816_calls.json', mode='a') as fp:\n",
    "    json.dump(abi_decoded_calls_dict, fp, default=str)\n",
    "    fp.close()\n",
    "\n",
    "with open('../data/0x1594180567438ad258c98e263b412f55f62a23ebb5e9056089e9f11a513d4816_transfers.json', mode='a') as fp:\n",
    "    json.dump(abi_decoded_transfers_dict, fp, default=str)\n",
    "    fp.close()\n",
    "\n",
    "with open('../data/0x1594180567438ad258c98e263b412f55f62a23ebb5e9056089e9f11a513d4816_balances.json', mode='a') as fp:\n",
    "    json.dump(abi_decoded_balances_dict, fp, default=str)\n",
    "    fp.close()\n",
    " \"\"\""
   ]
  }
 ],
 "metadata": {
  "kernelspec": {
   "display_name": "Python 3.10.6 64-bit",
   "language": "python",
   "name": "python3"
  },
  "language_info": {
   "codemirror_mode": {
    "name": "ipython",
    "version": 3
   },
   "file_extension": ".py",
   "mimetype": "text/x-python",
   "name": "python",
   "nbconvert_exporter": "python",
   "pygments_lexer": "ipython3",
   "version": "3.10.6"
  },
  "vscode": {
   "interpreter": {
    "hash": "916dbcbb3f70747c44a77c7bcd40155683ae19c65e1c03b4aa3499c5328201f1"
   }
  }
 },
 "nbformat": 4,
 "nbformat_minor": 5
}
