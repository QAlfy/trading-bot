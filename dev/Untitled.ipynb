{
 "cells": [
  {
   "cell_type": "code",
   "execution_count": 1,
   "id": "53764fe9",
   "metadata": {},
   "outputs": [],
   "source": [
    "import pandas as pd\n",
    "from ethtx import EthTx, EthTxConfig\n",
    "from ethtx.models.decoded_model import DecodedTransaction\n",
    "from typing import List\n",
    "import sys\n",
    "import json\n",
    "import datetime\n",
    "import numpy as np\n",
    "\n",
    "sys.path.append(\"../src/\")\n",
    "\n",
    "from com.cryptobot.config import Config\n",
    "from com.cryptobot.utils.request import HttpRequest\n",
    "from com.cryptobot.utils.path import get_data_path\n",
    "from com.cryptobot.utils.gbq import query_table\n",
    "from toolz import dissoc\n",
    "from pypika import Table, MySQLQuery, Interval, Criterion, Order, functions as fn"
   ]
  },
  {
   "cell_type": "markdown",
   "id": "66b125b5",
   "metadata": {},
   "source": []
  }
 ],
 "metadata": {
  "kernelspec": {
   "display_name": "Python 3.10.6 64-bit",
   "language": "python",
   "name": "python3"
  },
  "language_info": {
   "codemirror_mode": {
    "name": "ipython",
    "version": 3
   },
   "file_extension": ".py",
   "mimetype": "text/x-python",
   "name": "python",
   "nbconvert_exporter": "python",
   "pygments_lexer": "ipython3",
   "version": "3.10.6 (main, Nov  2 2022, 18:53:38) [GCC 11.3.0]"
  },
  "vscode": {
   "interpreter": {
    "hash": "916dbcbb3f70747c44a77c7bcd40155683ae19c65e1c03b4aa3499c5328201f1"
   }
  }
 },
 "nbformat": 4,
 "nbformat_minor": 5
}
