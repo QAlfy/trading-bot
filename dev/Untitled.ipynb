{
 "cells": [
  {
   "cell_type": "code",
   "execution_count": 1,
   "id": "53764fe9",
   "metadata": {},
   "outputs": [],
   "source": [
    "import pandas as pd"
   ]
  },
  {
   "cell_type": "code",
   "execution_count": 75,
   "id": "a23de7ef",
   "metadata": {},
   "outputs": [
    {
     "data": {
      "text/html": [
       "<div>\n",
       "<style scoped>\n",
       "    .dataframe tbody tr th:only-of-type {\n",
       "        vertical-align: middle;\n",
       "    }\n",
       "\n",
       "    .dataframe tbody tr th {\n",
       "        vertical-align: top;\n",
       "    }\n",
       "\n",
       "    .dataframe thead th {\n",
       "        text-align: right;\n",
       "    }\n",
       "</style>\n",
       "<table border=\"1\" class=\"dataframe\">\n",
       "  <thead>\n",
       "    <tr style=\"text-align: right;\">\n",
       "      <th></th>\n",
       "      <th>rank</th>\n",
       "      <th>address</th>\n",
       "      <th>qty</th>\n",
       "      <th>percentage</th>\n",
       "      <th>value</th>\n",
       "    </tr>\n",
       "  </thead>\n",
       "  <tbody>\n",
       "    <tr>\n",
       "      <th>0</th>\n",
       "      <td>('1', None)</td>\n",
       "      <td>0x5041ed759dd4afc3a72b8192c143f72f4724081a</td>\n",
       "      <td>2,336,201,834.85859</td>\n",
       "      <td>5.7791</td>\n",
       "      <td>2,336,201,834.86</td>\n",
       "    </tr>\n",
       "    <tr>\n",
       "      <th>1</th>\n",
       "      <td>('2', None)</td>\n",
       "      <td>0xf977814e90da44bfa03b6295a0616a897441acec</td>\n",
       "      <td>1,700,000,000</td>\n",
       "      <td>4.2053</td>\n",
       "      <td>1,700,000,000.00</td>\n",
       "    </tr>\n",
       "    <tr>\n",
       "      <th>2</th>\n",
       "      <td>('3', None)</td>\n",
       "      <td>0x47ac0fb4f2d84898e4d9e7b4dab3c24507a6d503</td>\n",
       "      <td>1,250,000,115.495224</td>\n",
       "      <td>3.0921</td>\n",
       "      <td>1,250,000,115.50</td>\n",
       "    </tr>\n",
       "    <tr>\n",
       "      <th>3</th>\n",
       "      <td>('4', None)</td>\n",
       "      <td>0x5754284f345afc66a98fbb0a0afe71e0f007b949</td>\n",
       "      <td>1,161,543,043.567473</td>\n",
       "      <td>2.8733</td>\n",
       "      <td>1,161,543,043.57</td>\n",
       "    </tr>\n",
       "    <tr>\n",
       "      <th>4</th>\n",
       "      <td>('5', None)</td>\n",
       "      <td>0xd6216fc19db775df9774a6e33526131da7d19a2c</td>\n",
       "      <td>1,000,664,634.348583</td>\n",
       "      <td>2.4754</td>\n",
       "      <td>1,000,664,634.35</td>\n",
       "    </tr>\n",
       "  </tbody>\n",
       "</table>\n",
       "</div>"
      ],
      "text/plain": [
       "          rank                                     address  \\\n",
       "0  ('1', None)  0x5041ed759dd4afc3a72b8192c143f72f4724081a   \n",
       "1  ('2', None)  0xf977814e90da44bfa03b6295a0616a897441acec   \n",
       "2  ('3', None)  0x47ac0fb4f2d84898e4d9e7b4dab3c24507a6d503   \n",
       "3  ('4', None)  0x5754284f345afc66a98fbb0a0afe71e0f007b949   \n",
       "4  ('5', None)  0xd6216fc19db775df9774a6e33526131da7d19a2c   \n",
       "\n",
       "                    qty  percentage             value  \n",
       "0   2,336,201,834.85859      5.7791  2,336,201,834.86  \n",
       "1         1,700,000,000      4.2053  1,700,000,000.00  \n",
       "2  1,250,000,115.495224      3.0921  1,250,000,115.50  \n",
       "3  1,161,543,043.567473      2.8733  1,161,543,043.57  \n",
       "4  1,000,664,634.348583      2.4754  1,000,664,634.35  "
      ]
     },
     "execution_count": 75,
     "metadata": {},
     "output_type": "execute_result"
    }
   ],
   "source": [
    "df = pd.read_csv('../data/tokens_holders.csv')\n",
    "df['token_address'] = 'test'\n",
    "df.drop(df.columns[5:], axis=1, inplace=True)\n",
    "\n",
    "df.head()"
   ]
  },
  {
   "cell_type": "code",
   "execution_count": 61,
   "id": "be13ffb4",
   "metadata": {},
   "outputs": [
    {
     "data": {
      "text/plain": [
       "'0x418d75f65a02b3d53b2418fb8e1fe493759c7605'"
      ]
     },
     "execution_count": 61,
     "metadata": {},
     "output_type": "execute_result"
    }
   ],
   "source": [
    "tokens = pd.read_csv('../data/tokens.csv')\n",
    "tokens_addresses = tokens[tokens['address'].notnull()]\n",
    "tokens_addresses.reset_index(inplace=True, drop=True)\n",
    "tokens_addresses = tokens_addresses[['symbol', 'address']]\n",
    "tokens_addresses = tokens_addresses.loc[0:2]\n",
    "\n",
    "tokens_addresses.iloc[2]['address']"
   ]
  },
  {
   "cell_type": "code",
   "execution_count": null,
   "id": "511de337",
   "metadata": {},
   "outputs": [],
   "source": []
  }
 ],
 "metadata": {
  "kernelspec": {
   "display_name": "Python 3 (ipykernel)",
   "language": "python",
   "name": "python3"
  },
  "language_info": {
   "codemirror_mode": {
    "name": "ipython",
    "version": 3
   },
   "file_extension": ".py",
   "mimetype": "text/x-python",
   "name": "python",
   "nbconvert_exporter": "python",
   "pygments_lexer": "ipython3",
   "version": "3.8.13"
  }
 },
 "nbformat": 4,
 "nbformat_minor": 5
}
